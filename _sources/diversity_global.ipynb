{
 "cells": [
  {
   "cell_type": "markdown",
   "metadata": {},
   "source": [
    "# Nucleotide diversity of the global population\n",
    "\n",
    "* My Drive/GitHub/transmission_ms/diversity_global.ipynb\n",
    "* checked that it is working 6 Nov 2022\n",
    "* from 211012_diversity_global_population.ipynb"
   ]
  },
  {
   "cell_type": "code",
   "execution_count": 1,
   "metadata": {
    "collapsed": true
   },
   "outputs": [],
   "source": [
    "import coalestr as cs"
   ]
  },
  {
   "cell_type": "code",
   "execution_count": 2,
   "metadata": {
    "collapsed": true
   },
   "outputs": [],
   "source": [
    "def constant_population (duration, N, Q, X):\n",
    "    pop = cs.Population(history = [[duration, N, Q, X, 0]])\n",
    "    pop.get_coalescent()\n",
    "    pop.get_diversity()"
   ]
  },
  {
   "cell_type": "code",
   "execution_count": 3,
   "metadata": {
    "collapsed": true
   },
   "outputs": [],
   "source": [
    "duration = 100000"
   ]
  },
  {
   "cell_type": "code",
   "execution_count": 4,
   "metadata": {},
   "outputs": [
    {
     "name": "stdout",
     "output_type": "stream",
     "text": [
      "Observation time.    Events captured.   Mean coalescence time\n",
      "                      beho      wiho        beho     wiho\n",
      "        0              99.5     100.0     18188.4      1.0\n",
      "Observation time.    SNP heterozygosity.   Haplotype homozygosity at 27.0 kb locus\n",
      "                      beho       wiho           beho       wiho\n",
      "        0           4.00e-04   2.20e-08       4.09e-03   9.87e-01\n"
     ]
    }
   ],
   "source": [
    "constant_population(duration, 18764, 1, 0)"
   ]
  },
  {
   "cell_type": "code",
   "execution_count": 5,
   "metadata": {},
   "outputs": [
    {
     "name": "stdout",
     "output_type": "stream",
     "text": [
      "Observation time.    Events captured.   Mean coalescence time\n",
      "                      beho      wiho        beho     wiho\n",
      "        0              99.5     100.0     18188.8     10.0\n",
      "Observation time.    SNP heterozygosity.   Haplotype homozygosity at 27.0 kb locus\n",
      "                      beho       wiho           beho       wiho\n",
      "        0           4.00e-04   2.20e-07       3.67e-03   8.85e-01\n"
     ]
    }
   ],
   "source": [
    "constant_population(duration, 18754, 10, 0)"
   ]
  },
  {
   "cell_type": "code",
   "execution_count": 6,
   "metadata": {},
   "outputs": [
    {
     "name": "stdout",
     "output_type": "stream",
     "text": [
      "Observation time.    Events captured.   Mean coalescence time\n",
      "                      beho      wiho        beho     wiho\n",
      "        0              99.5      99.8     18180.0   9091.0\n",
      "Observation time.    SNP heterozygosity.   Haplotype homozygosity at 27.0 kb locus\n",
      "                      beho       wiho           beho       wiho\n",
      "        0           4.00e-04   2.00e-04       4.09e-03   4.96e-01\n"
     ]
    }
   ],
   "source": [
    "constant_population(duration, 18754, 1, 0.5)"
   ]
  },
  {
   "cell_type": "code",
   "execution_count": 7,
   "metadata": {},
   "outputs": [
    {
     "name": "stdout",
     "output_type": "stream",
     "text": [
      "Observation time.    Events captured.   Mean coalescence time\n",
      "                      beho      wiho        beho     wiho\n",
      "        0              99.5      99.6     18188.9  14213.0\n",
      "Observation time.    SNP heterozygosity.   Haplotype homozygosity at 27.0 kb locus\n",
      "                      beho       wiho           beho       wiho\n",
      "        0           4.00e-04   3.13e-04       3.99e-03   2.14e-01\n"
     ]
    }
   ],
   "source": [
    "constant_population(duration, 5568, 10, 0.5)"
   ]
  },
  {
   "cell_type": "code",
   "execution_count": 8,
   "metadata": {},
   "outputs": [
    {
     "name": "stdout",
     "output_type": "stream",
     "text": [
      "Observation time.    Events captured.   Mean coalescence time\n",
      "                      beho      wiho        beho     wiho\n",
      "        0              99.5      99.5     18188.4  18189.3\n",
      "Observation time.    SNP heterozygosity.   Haplotype homozygosity at 27.0 kb locus\n",
      "                      beho       wiho           beho       wiho\n",
      "        0           4.00e-04   4.00e-04       4.09e-03   4.04e-03\n"
     ]
    }
   ],
   "source": [
    "constant_population(duration, 18764, 1, 1)"
   ]
  },
  {
   "cell_type": "code",
   "execution_count": 9,
   "metadata": {},
   "outputs": [
    {
     "name": "stdout",
     "output_type": "stream",
     "text": [
      "Observation time.    Events captured.   Mean coalescence time\n",
      "                      beho      wiho        beho     wiho\n",
      "        0              99.5      99.6     18187.4  16687.4\n",
      "Observation time.    SNP heterozygosity.   Haplotype homozygosity at 27.0 kb locus\n",
      "                      beho       wiho           beho       wiho\n",
      "        0           4.00e-04   3.67e-04       4.05e-03   8.44e-02\n"
     ]
    }
   ],
   "source": [
    "constant_population(duration, 3269, 10, 1)"
   ]
  }
 ],
 "metadata": {
  "kernelspec": {
   "display_name": "Python 3",
   "language": "python",
   "name": "python3"
  },
  "language_info": {
   "codemirror_mode": {
    "name": "ipython",
    "version": 3
   },
   "file_extension": ".py",
   "mimetype": "text/x-python",
   "name": "python",
   "nbconvert_exporter": "python",
   "pygments_lexer": "ipython3",
   "version": "3.6.3"
  }
 },
 "nbformat": 4,
 "nbformat_minor": 2
}
