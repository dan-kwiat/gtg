{
 "cells": [
  {
   "cell_type": "markdown",
   "metadata": {},
   "source": [
    "# Modelling haplotype homozygosity\n",
    "\n",
    "* My Drive/GitHub/transmission_ms/haplotype_homozygosity.ipynb\n",
    "* Checked in working order 7 Nov 2022\n",
    "* From 210823_haplotype_homozygosity.ipynb\n",
    "\n",
    "We calculate the variation of homozygosity with haplotype length for different sets of transmission parameters"
   ]
  },
  {
   "cell_type": "code",
   "execution_count": 1,
   "metadata": {
    "collapsed": true
   },
   "outputs": [],
   "source": [
    "import coalestr as cs\n",
    "import matplotlib.pyplot as plt"
   ]
  },
  {
   "cell_type": "code",
   "execution_count": 2,
   "metadata": {},
   "outputs": [
    {
     "name": "stdout",
     "output_type": "stream",
     "text": [
      "Observation time.    Events captured.   Mean coalescence time\n",
      "                      beho      wiho        beho     wiho\n",
      "        0             100.0     100.0      1266.4    835.5\n",
      "      200             100.0     100.0      1265.8    835.1\n",
      "      400              99.9     100.0      1265.0    834.6\n",
      "      600              99.9     100.0      1264.2    834.1\n",
      "      800              99.9     100.0      1263.2    833.4\n",
      "Observation time.    SNP heterozygosity.   Haplotype homozygosity at 27.0 kb locus\n",
      "                      beho       wiho           beho       wiho\n",
      "      800           2.78e-05   1.83e-05       5.63e-02   3.68e-01\n",
      "      600           2.78e-05   1.83e-05       2.40e-02   3.34e-01\n",
      "      400           2.78e-05   1.84e-05       2.29e-02   3.32e-01\n",
      "      200           2.78e-05   1.84e-05       2.28e-02   3.32e-01\n",
      "        0           2.79e-05   1.84e-05       2.28e-02   3.32e-01\n",
      "Nh=600, Q=5, chi=0.50, haplotype length 27 kilobases\n",
      "Between-host haplotype homozygosity 2.28e-02\n",
      "Within-host haplotype homozygosity 3.32e-01\n"
     ]
    }
   ],
   "source": [
    "N = 600  # effective number of hosts, N\n",
    "Q = 5    # quantum of transmission Q\n",
    "X = 0.5  # rate of crossing of transmission chains chi\n",
    "\n",
    "duration = 10000 # duration of simulation in generation\n",
    "observe = range(0, 1000, 200) # when we estimate phi in backwards time\n",
    "\n",
    "# RUN SIMULATION\n",
    "\n",
    "history = [[duration, N, Q, X, 0]]  # tsim, Nh, Q, chi, migration\n",
    "my_pop = cs.Population(history)\n",
    "my_pop.get_coalescent(observe)\n",
    "my_pop.get_diversity()\n",
    "\n",
    "beho_hap_hom = my_pop.diversity[0,3] # between-host haplotype homozygosity\n",
    "wiho_hap_hom = my_pop.diversity[0,4] # within-host haplotype homozygosity \n",
    "\n",
    "print(\"Nh={:d}, Q={:d}, chi={:.2f}, haplotype length {:d} kilobases\" .format(N, Q, X, my_pop.locus_kb))\n",
    "print(\"Between-host haplotype homozygosity {:.2e}\" .format(beho_hap_hom))\n",
    "print(\"Within-host haplotype homozygosity {:.2e}\" .format(wiho_hap_hom))"
   ]
  }
 ],
 "metadata": {
  "kernelspec": {
   "display_name": "Python 3",
   "language": "python",
   "name": "python3"
  },
  "language_info": {
   "codemirror_mode": {
    "name": "ipython",
    "version": 3
   },
   "file_extension": ".py",
   "mimetype": "text/x-python",
   "name": "python",
   "nbconvert_exporter": "python",
   "pygments_lexer": "ipython3",
   "version": "3.6.3"
  }
 },
 "nbformat": 4,
 "nbformat_minor": 2
}
