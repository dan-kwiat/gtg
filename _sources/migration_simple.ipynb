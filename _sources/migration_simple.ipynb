{
 "cells": [
  {
   "cell_type": "markdown",
   "metadata": {},
   "source": [
    "# Simple view of migration\n",
    "\n",
    "* My Drive/GitHub/transmission_ms/migration_simple.ipynb\n",
    "* Checked in working order 13 Nov 2022\n",
    "* From 211012_migration_Fst.ipynb"
   ]
  },
  {
   "cell_type": "code",
   "execution_count": 1,
   "metadata": {},
   "outputs": [],
   "source": [
    "import coalestr as cs\n",
    "import matplotlib.pyplot as plt"
   ]
  },
  {
   "cell_type": "code",
   "execution_count": 2,
   "metadata": {},
   "outputs": [
    {
     "name": "stdout",
     "output_type": "stream",
     "text": [
      "Observation time.    Events captured.   Mean coalescence time\n",
      "                      beho      wiho        beho     wiho\n",
      "        0              99.7      99.7     16867.3  15476.3\n",
      "Observation time.    SNP heterozygosity.   Haplotype homozygosity at 27.0 kb locus\n",
      "                      beho       wiho           beho       wiho\n",
      "        0           3.71e-04   3.40e-04       4.41e-03   8.47e-02\n"
     ]
    }
   ],
   "source": [
    "# define the metapopulation\n",
    "\n",
    "metapop_history = [[100000, 3000, 10, 1, 0]]\n",
    "metapop = cs.Population(metapop_history)\n",
    "metapop.get_coalescent()\n",
    "metapop.get_diversity()"
   ]
  },
  {
   "cell_type": "code",
   "execution_count": 3,
   "metadata": {},
   "outputs": [
    {
     "name": "stdout",
     "output_type": "stream",
     "text": [
      "For Nm = 0.00: SNP het = 2.42e-06, hap hom = 0.41, Fst = 0.99\n",
      "For Nm = 0.10: SNP het = 1.54e-04, hap hom = 0.32, Fst = 0.59\n",
      "For Nm = 1.00: SNP het = 3.26e-04, hap hom = 0.10, Fst = 0.12\n",
      "For Nm = 10.00: SNP het = 3.67e-04, hap hom = 0.01, Fst = 0.01\n",
      "For Nm = 30.00: SNP het = 3.70e-04, hap hom = 0.01, Fst = 0.00\n"
     ]
    }
   ],
   "source": [
    "# define the subpopulation\n",
    "\n",
    "Nm_list = [0, 0.1, 1, 10, 30]\n",
    "\n",
    "duration = 1000\n",
    "Nh = 30\n",
    "Q = 10\n",
    "X = 0.5\n",
    "\n",
    "for Nm in Nm_list:\n",
    "    subpop_history = [[duration, Nh, Q, X, Nm]]\n",
    "\n",
    "    subpop = cs.Population(subpop_history, metapopulation = metapop)\n",
    "    subpop.get_coalescent(show = False)\n",
    "    subpop.get_diversity(show = False)\n",
    "    beho_snp_het = subpop.diversity[0,1]\n",
    "    beho_hap_hom = subpop.diversity[0,3]\n",
    "    fst = subpop.diversity[0,6]\n",
    "    print(\"For Nm = {0:4.2f}: SNP het = {1:.2e}, hap hom = {2:4.2f}, Fst = {3:4.2f}\".format(\n",
    "        Nm,\n",
    "        beho_snp_het,\n",
    "        beho_hap_hom,\n",
    "        fst))"
   ]
  }
 ],
 "metadata": {
  "kernelspec": {
   "display_name": "Python 3",
   "language": "python",
   "name": "python3"
  },
  "language_info": {
   "codemirror_mode": {
    "name": "ipython",
    "version": 3
   },
   "file_extension": ".py",
   "mimetype": "text/x-python",
   "name": "python",
   "nbconvert_exporter": "python",
   "pygments_lexer": "ipython3",
   "version": "3.8.3"
  }
 },
 "nbformat": 4,
 "nbformat_minor": 2
}
